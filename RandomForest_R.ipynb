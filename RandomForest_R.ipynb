{
 "cells": [
  {
   "cell_type": "markdown",
   "id": "8bb1a2c6",
   "metadata": {},
   "source": [
    "# RANDOM FOREST REGRESSION."
   ]
  },
  {
   "cell_type": "markdown",
   "id": "35cbaf4f",
   "metadata": {},
   "source": [
    "### Imports"
   ]
  },
  {
   "cell_type": "code",
   "execution_count": 1,
   "id": "55ccf9e2",
   "metadata": {},
   "outputs": [],
   "source": [
    "import pandas as pd\n",
    "import numpy as np\n",
    "from sklearn.model_selection import train_test_split\n",
    "from sklearn.preprocessing import RobustScaler\n",
    "from sklearn.metrics import f1_score, mean_squared_error, mean_absolute_error\n",
    "from pandas import DataFrame\n",
    "from sklearn.ensemble import RandomForestClassifier, RandomForestRegressor"
   ]
  },
  {
   "cell_type": "markdown",
   "id": "f0b30443",
   "metadata": {},
   "source": [
    "## Funciones Auxiliares"
   ]
  },
  {
   "cell_type": "code",
   "execution_count": 2,
   "id": "2f4047dd",
   "metadata": {},
   "outputs": [],
   "source": [
    "# Función para dividir el conjunto de datos\n",
    "def train_val_test_split(df, rstate=42, shuffle=True, stratify=None):\n",
    "    strat = df[stratify] if stratify else None\n",
    "    train_set, test_set = train_test_split(\n",
    "        df, test_size=0.4, random_state=rstate, shuffle=shuffle, stratify=strat)\n",
    "    strat = test_set[stratify] if stratify else None\n",
    "    val_set, test_set = train_test_split(\n",
    "        test_set, test_size=0.5, random_state=rstate, shuffle=shuffle, stratify=strat)\n",
    "    return train_set, val_set, test_set"
   ]
  },
  {
   "cell_type": "code",
   "execution_count": 3,
   "id": "d23fd2eb",
   "metadata": {},
   "outputs": [],
   "source": [
    "# Función para separar características y etiquetas\n",
    "def remove_labels(df, label_name):\n",
    "    X = df.drop(label_name, axis=1)\n",
    "    y = df[label_name].copy()\n",
    "    return X, y"
   ]
  },
  {
   "cell_type": "markdown",
   "id": "3345115a",
   "metadata": {},
   "source": [
    "## Lectura del DataSet"
   ]
  },
  {
   "cell_type": "code",
   "execution_count": 4,
   "id": "0f9d9701",
   "metadata": {},
   "outputs": [],
   "source": [
    "df = pd.read_csv(\"AndroidAdware2017/TotalFeatures-ISCXFlowMeter.csv\")"
   ]
  },
  {
   "cell_type": "markdown",
   "id": "c91bd156",
   "metadata": {},
   "source": [
    "### Exploracion del DataSet."
   ]
  },
  {
   "cell_type": "code",
   "execution_count": 5,
   "id": "c4b091e3",
   "metadata": {},
   "outputs": [
    {
     "data": {
      "text/html": [
       "<div>\n",
       "<style scoped>\n",
       "    .dataframe tbody tr th:only-of-type {\n",
       "        vertical-align: middle;\n",
       "    }\n",
       "\n",
       "    .dataframe tbody tr th {\n",
       "        vertical-align: top;\n",
       "    }\n",
       "\n",
       "    .dataframe thead th {\n",
       "        text-align: right;\n",
       "    }\n",
       "</style>\n",
       "<table border=\"1\" class=\"dataframe\">\n",
       "  <thead>\n",
       "    <tr style=\"text-align: right;\">\n",
       "      <th></th>\n",
       "      <th>duration</th>\n",
       "      <th>total_fpackets</th>\n",
       "      <th>total_bpackets</th>\n",
       "      <th>total_fpktl</th>\n",
       "      <th>total_bpktl</th>\n",
       "      <th>min_fpktl</th>\n",
       "      <th>min_bpktl</th>\n",
       "      <th>max_fpktl</th>\n",
       "      <th>max_bpktl</th>\n",
       "      <th>mean_fpktl</th>\n",
       "      <th>...</th>\n",
       "      <th>mean_idle</th>\n",
       "      <th>max_idle</th>\n",
       "      <th>std_idle</th>\n",
       "      <th>FFNEPD</th>\n",
       "      <th>Init_Win_bytes_forward</th>\n",
       "      <th>Init_Win_bytes_backward</th>\n",
       "      <th>RRT_samples_clnt</th>\n",
       "      <th>Act_data_pkt_forward</th>\n",
       "      <th>min_seg_size_forward</th>\n",
       "      <th>calss</th>\n",
       "    </tr>\n",
       "  </thead>\n",
       "  <tbody>\n",
       "    <tr>\n",
       "      <th>0</th>\n",
       "      <td>1020586</td>\n",
       "      <td>668</td>\n",
       "      <td>1641</td>\n",
       "      <td>35692</td>\n",
       "      <td>2276876</td>\n",
       "      <td>52</td>\n",
       "      <td>52</td>\n",
       "      <td>679</td>\n",
       "      <td>1390</td>\n",
       "      <td>53.431138</td>\n",
       "      <td>...</td>\n",
       "      <td>0.0</td>\n",
       "      <td>-1</td>\n",
       "      <td>0.0</td>\n",
       "      <td>2</td>\n",
       "      <td>4194240</td>\n",
       "      <td>1853440</td>\n",
       "      <td>1640</td>\n",
       "      <td>668</td>\n",
       "      <td>32</td>\n",
       "      <td>benign</td>\n",
       "    </tr>\n",
       "    <tr>\n",
       "      <th>1</th>\n",
       "      <td>80794</td>\n",
       "      <td>1</td>\n",
       "      <td>1</td>\n",
       "      <td>75</td>\n",
       "      <td>124</td>\n",
       "      <td>75</td>\n",
       "      <td>124</td>\n",
       "      <td>75</td>\n",
       "      <td>124</td>\n",
       "      <td>75.000000</td>\n",
       "      <td>...</td>\n",
       "      <td>0.0</td>\n",
       "      <td>-1</td>\n",
       "      <td>0.0</td>\n",
       "      <td>2</td>\n",
       "      <td>0</td>\n",
       "      <td>0</td>\n",
       "      <td>0</td>\n",
       "      <td>1</td>\n",
       "      <td>0</td>\n",
       "      <td>benign</td>\n",
       "    </tr>\n",
       "    <tr>\n",
       "      <th>2</th>\n",
       "      <td>998</td>\n",
       "      <td>3</td>\n",
       "      <td>0</td>\n",
       "      <td>187</td>\n",
       "      <td>0</td>\n",
       "      <td>52</td>\n",
       "      <td>-1</td>\n",
       "      <td>83</td>\n",
       "      <td>-1</td>\n",
       "      <td>62.333333</td>\n",
       "      <td>...</td>\n",
       "      <td>0.0</td>\n",
       "      <td>-1</td>\n",
       "      <td>0.0</td>\n",
       "      <td>4</td>\n",
       "      <td>101888</td>\n",
       "      <td>-1</td>\n",
       "      <td>0</td>\n",
       "      <td>3</td>\n",
       "      <td>32</td>\n",
       "      <td>benign</td>\n",
       "    </tr>\n",
       "    <tr>\n",
       "      <th>3</th>\n",
       "      <td>189868</td>\n",
       "      <td>9</td>\n",
       "      <td>9</td>\n",
       "      <td>1448</td>\n",
       "      <td>6200</td>\n",
       "      <td>52</td>\n",
       "      <td>52</td>\n",
       "      <td>706</td>\n",
       "      <td>1390</td>\n",
       "      <td>160.888889</td>\n",
       "      <td>...</td>\n",
       "      <td>0.0</td>\n",
       "      <td>-1</td>\n",
       "      <td>0.0</td>\n",
       "      <td>2</td>\n",
       "      <td>4194240</td>\n",
       "      <td>2722560</td>\n",
       "      <td>8</td>\n",
       "      <td>9</td>\n",
       "      <td>32</td>\n",
       "      <td>benign</td>\n",
       "    </tr>\n",
       "    <tr>\n",
       "      <th>4</th>\n",
       "      <td>110577</td>\n",
       "      <td>4</td>\n",
       "      <td>6</td>\n",
       "      <td>528</td>\n",
       "      <td>1422</td>\n",
       "      <td>52</td>\n",
       "      <td>52</td>\n",
       "      <td>331</td>\n",
       "      <td>1005</td>\n",
       "      <td>132.000000</td>\n",
       "      <td>...</td>\n",
       "      <td>0.0</td>\n",
       "      <td>-1</td>\n",
       "      <td>0.0</td>\n",
       "      <td>2</td>\n",
       "      <td>155136</td>\n",
       "      <td>31232</td>\n",
       "      <td>5</td>\n",
       "      <td>4</td>\n",
       "      <td>32</td>\n",
       "      <td>benign</td>\n",
       "    </tr>\n",
       "  </tbody>\n",
       "</table>\n",
       "<p>5 rows × 80 columns</p>\n",
       "</div>"
      ],
      "text/plain": [
       "   duration  total_fpackets  total_bpackets  total_fpktl  total_bpktl  \\\n",
       "0   1020586             668            1641        35692      2276876   \n",
       "1     80794               1               1           75          124   \n",
       "2       998               3               0          187            0   \n",
       "3    189868               9               9         1448         6200   \n",
       "4    110577               4               6          528         1422   \n",
       "\n",
       "   min_fpktl  min_bpktl  max_fpktl  max_bpktl  mean_fpktl  ...  mean_idle  \\\n",
       "0         52         52        679       1390   53.431138  ...        0.0   \n",
       "1         75        124         75        124   75.000000  ...        0.0   \n",
       "2         52         -1         83         -1   62.333333  ...        0.0   \n",
       "3         52         52        706       1390  160.888889  ...        0.0   \n",
       "4         52         52        331       1005  132.000000  ...        0.0   \n",
       "\n",
       "   max_idle  std_idle  FFNEPD  Init_Win_bytes_forward  \\\n",
       "0        -1       0.0       2                 4194240   \n",
       "1        -1       0.0       2                       0   \n",
       "2        -1       0.0       4                  101888   \n",
       "3        -1       0.0       2                 4194240   \n",
       "4        -1       0.0       2                  155136   \n",
       "\n",
       "   Init_Win_bytes_backward  RRT_samples_clnt  Act_data_pkt_forward  \\\n",
       "0                  1853440              1640                   668   \n",
       "1                        0                 0                     1   \n",
       "2                       -1                 0                     3   \n",
       "3                  2722560                 8                     9   \n",
       "4                    31232                 5                     4   \n",
       "\n",
       "   min_seg_size_forward   calss  \n",
       "0                    32  benign  \n",
       "1                     0  benign  \n",
       "2                    32  benign  \n",
       "3                    32  benign  \n",
       "4                    32  benign  \n",
       "\n",
       "[5 rows x 80 columns]"
      ]
     },
     "execution_count": 5,
     "metadata": {},
     "output_type": "execute_result"
    }
   ],
   "source": [
    "df.head()"
   ]
  },
  {
   "cell_type": "code",
   "execution_count": 6,
   "id": "a1a4b797",
   "metadata": {},
   "outputs": [
    {
     "data": {
      "text/html": [
       "<div>\n",
       "<style scoped>\n",
       "    .dataframe tbody tr th:only-of-type {\n",
       "        vertical-align: middle;\n",
       "    }\n",
       "\n",
       "    .dataframe tbody tr th {\n",
       "        vertical-align: top;\n",
       "    }\n",
       "\n",
       "    .dataframe thead th {\n",
       "        text-align: right;\n",
       "    }\n",
       "</style>\n",
       "<table border=\"1\" class=\"dataframe\">\n",
       "  <thead>\n",
       "    <tr style=\"text-align: right;\">\n",
       "      <th></th>\n",
       "      <th>duration</th>\n",
       "      <th>total_fpackets</th>\n",
       "      <th>total_bpackets</th>\n",
       "      <th>total_fpktl</th>\n",
       "      <th>total_bpktl</th>\n",
       "      <th>min_fpktl</th>\n",
       "      <th>min_bpktl</th>\n",
       "      <th>max_fpktl</th>\n",
       "      <th>max_bpktl</th>\n",
       "      <th>mean_fpktl</th>\n",
       "      <th>...</th>\n",
       "      <th>min_idle</th>\n",
       "      <th>mean_idle</th>\n",
       "      <th>max_idle</th>\n",
       "      <th>std_idle</th>\n",
       "      <th>FFNEPD</th>\n",
       "      <th>Init_Win_bytes_forward</th>\n",
       "      <th>Init_Win_bytes_backward</th>\n",
       "      <th>RRT_samples_clnt</th>\n",
       "      <th>Act_data_pkt_forward</th>\n",
       "      <th>min_seg_size_forward</th>\n",
       "    </tr>\n",
       "  </thead>\n",
       "  <tbody>\n",
       "    <tr>\n",
       "      <th>count</th>\n",
       "      <td>6.319550e+05</td>\n",
       "      <td>631955.000000</td>\n",
       "      <td>631955.000000</td>\n",
       "      <td>6.319550e+05</td>\n",
       "      <td>6.319550e+05</td>\n",
       "      <td>631955.000000</td>\n",
       "      <td>631955.000000</td>\n",
       "      <td>631955.000000</td>\n",
       "      <td>631955.000000</td>\n",
       "      <td>631955.000000</td>\n",
       "      <td>...</td>\n",
       "      <td>6.319550e+05</td>\n",
       "      <td>6.319550e+05</td>\n",
       "      <td>6.319550e+05</td>\n",
       "      <td>6.319550e+05</td>\n",
       "      <td>631955.000000</td>\n",
       "      <td>6.319550e+05</td>\n",
       "      <td>6.319550e+05</td>\n",
       "      <td>631955.000000</td>\n",
       "      <td>631955.00000</td>\n",
       "      <td>631955.000000</td>\n",
       "    </tr>\n",
       "    <tr>\n",
       "      <th>mean</th>\n",
       "      <td>2.195245e+07</td>\n",
       "      <td>6.728514</td>\n",
       "      <td>10.431934</td>\n",
       "      <td>9.540172e+02</td>\n",
       "      <td>1.206042e+04</td>\n",
       "      <td>141.475727</td>\n",
       "      <td>44.357688</td>\n",
       "      <td>263.675901</td>\n",
       "      <td>183.248084</td>\n",
       "      <td>174.959706</td>\n",
       "      <td>...</td>\n",
       "      <td>1.997327e+07</td>\n",
       "      <td>2.031228e+07</td>\n",
       "      <td>2.075238e+07</td>\n",
       "      <td>4.663875e+05</td>\n",
       "      <td>2.360896</td>\n",
       "      <td>9.620796e+05</td>\n",
       "      <td>3.104519e+05</td>\n",
       "      <td>9.733144</td>\n",
       "      <td>6.72471</td>\n",
       "      <td>19.965713</td>\n",
       "    </tr>\n",
       "    <tr>\n",
       "      <th>std</th>\n",
       "      <td>1.900578e+08</td>\n",
       "      <td>174.161354</td>\n",
       "      <td>349.424019</td>\n",
       "      <td>8.235040e+04</td>\n",
       "      <td>4.824716e+05</td>\n",
       "      <td>157.680880</td>\n",
       "      <td>89.099554</td>\n",
       "      <td>289.644383</td>\n",
       "      <td>371.863224</td>\n",
       "      <td>162.024811</td>\n",
       "      <td>...</td>\n",
       "      <td>1.897986e+08</td>\n",
       "      <td>1.897902e+08</td>\n",
       "      <td>1.899721e+08</td>\n",
       "      <td>6.199704e+06</td>\n",
       "      <td>3.041810</td>\n",
       "      <td>1.705655e+06</td>\n",
       "      <td>6.647956e+05</td>\n",
       "      <td>347.877923</td>\n",
       "      <td>174.13813</td>\n",
       "      <td>14.914261</td>\n",
       "    </tr>\n",
       "    <tr>\n",
       "      <th>min</th>\n",
       "      <td>-1.800000e+01</td>\n",
       "      <td>0.000000</td>\n",
       "      <td>0.000000</td>\n",
       "      <td>0.000000e+00</td>\n",
       "      <td>0.000000e+00</td>\n",
       "      <td>-1.000000</td>\n",
       "      <td>-1.000000</td>\n",
       "      <td>-1.000000</td>\n",
       "      <td>-1.000000</td>\n",
       "      <td>0.000000</td>\n",
       "      <td>...</td>\n",
       "      <td>-1.000000e+00</td>\n",
       "      <td>0.000000e+00</td>\n",
       "      <td>-1.000000e+00</td>\n",
       "      <td>0.000000e+00</td>\n",
       "      <td>2.000000</td>\n",
       "      <td>-1.000000e+00</td>\n",
       "      <td>-1.000000e+00</td>\n",
       "      <td>0.000000</td>\n",
       "      <td>0.00000</td>\n",
       "      <td>0.000000</td>\n",
       "    </tr>\n",
       "    <tr>\n",
       "      <th>25%</th>\n",
       "      <td>0.000000e+00</td>\n",
       "      <td>1.000000</td>\n",
       "      <td>0.000000</td>\n",
       "      <td>6.900000e+01</td>\n",
       "      <td>0.000000e+00</td>\n",
       "      <td>52.000000</td>\n",
       "      <td>-1.000000</td>\n",
       "      <td>52.000000</td>\n",
       "      <td>-1.000000</td>\n",
       "      <td>52.000000</td>\n",
       "      <td>...</td>\n",
       "      <td>-1.000000e+00</td>\n",
       "      <td>0.000000e+00</td>\n",
       "      <td>-1.000000e+00</td>\n",
       "      <td>0.000000e+00</td>\n",
       "      <td>2.000000</td>\n",
       "      <td>0.000000e+00</td>\n",
       "      <td>-1.000000e+00</td>\n",
       "      <td>0.000000</td>\n",
       "      <td>1.00000</td>\n",
       "      <td>0.000000</td>\n",
       "    </tr>\n",
       "    <tr>\n",
       "      <th>50%</th>\n",
       "      <td>2.445000e+04</td>\n",
       "      <td>1.000000</td>\n",
       "      <td>0.000000</td>\n",
       "      <td>1.840000e+02</td>\n",
       "      <td>0.000000e+00</td>\n",
       "      <td>52.000000</td>\n",
       "      <td>-1.000000</td>\n",
       "      <td>83.000000</td>\n",
       "      <td>-1.000000</td>\n",
       "      <td>83.000000</td>\n",
       "      <td>...</td>\n",
       "      <td>-1.000000e+00</td>\n",
       "      <td>0.000000e+00</td>\n",
       "      <td>-1.000000e+00</td>\n",
       "      <td>0.000000e+00</td>\n",
       "      <td>2.000000</td>\n",
       "      <td>8.761600e+04</td>\n",
       "      <td>-1.000000e+00</td>\n",
       "      <td>0.000000</td>\n",
       "      <td>1.00000</td>\n",
       "      <td>32.000000</td>\n",
       "    </tr>\n",
       "    <tr>\n",
       "      <th>75%</th>\n",
       "      <td>1.759751e+06</td>\n",
       "      <td>3.000000</td>\n",
       "      <td>1.000000</td>\n",
       "      <td>4.270000e+02</td>\n",
       "      <td>1.670000e+02</td>\n",
       "      <td>108.000000</td>\n",
       "      <td>52.000000</td>\n",
       "      <td>421.000000</td>\n",
       "      <td>115.000000</td>\n",
       "      <td>356.000000</td>\n",
       "      <td>...</td>\n",
       "      <td>1.013498e+06</td>\n",
       "      <td>1.291379e+06</td>\n",
       "      <td>1.306116e+06</td>\n",
       "      <td>0.000000e+00</td>\n",
       "      <td>2.000000</td>\n",
       "      <td>3.046400e+05</td>\n",
       "      <td>9.049600e+04</td>\n",
       "      <td>1.000000</td>\n",
       "      <td>3.00000</td>\n",
       "      <td>32.000000</td>\n",
       "    </tr>\n",
       "    <tr>\n",
       "      <th>max</th>\n",
       "      <td>4.431076e+10</td>\n",
       "      <td>48255.000000</td>\n",
       "      <td>74768.000000</td>\n",
       "      <td>4.049644e+07</td>\n",
       "      <td>1.039222e+08</td>\n",
       "      <td>1390.000000</td>\n",
       "      <td>1390.000000</td>\n",
       "      <td>1500.000000</td>\n",
       "      <td>1390.000000</td>\n",
       "      <td>1390.000000</td>\n",
       "      <td>...</td>\n",
       "      <td>4.431072e+10</td>\n",
       "      <td>4.430000e+10</td>\n",
       "      <td>4.431072e+10</td>\n",
       "      <td>8.470000e+08</td>\n",
       "      <td>2269.000000</td>\n",
       "      <td>4.194240e+06</td>\n",
       "      <td>4.194240e+06</td>\n",
       "      <td>74524.000000</td>\n",
       "      <td>48255.00000</td>\n",
       "      <td>44.000000</td>\n",
       "    </tr>\n",
       "  </tbody>\n",
       "</table>\n",
       "<p>8 rows × 79 columns</p>\n",
       "</div>"
      ],
      "text/plain": [
       "           duration  total_fpackets  total_bpackets   total_fpktl  \\\n",
       "count  6.319550e+05   631955.000000   631955.000000  6.319550e+05   \n",
       "mean   2.195245e+07        6.728514       10.431934  9.540172e+02   \n",
       "std    1.900578e+08      174.161354      349.424019  8.235040e+04   \n",
       "min   -1.800000e+01        0.000000        0.000000  0.000000e+00   \n",
       "25%    0.000000e+00        1.000000        0.000000  6.900000e+01   \n",
       "50%    2.445000e+04        1.000000        0.000000  1.840000e+02   \n",
       "75%    1.759751e+06        3.000000        1.000000  4.270000e+02   \n",
       "max    4.431076e+10    48255.000000    74768.000000  4.049644e+07   \n",
       "\n",
       "        total_bpktl      min_fpktl      min_bpktl      max_fpktl  \\\n",
       "count  6.319550e+05  631955.000000  631955.000000  631955.000000   \n",
       "mean   1.206042e+04     141.475727      44.357688     263.675901   \n",
       "std    4.824716e+05     157.680880      89.099554     289.644383   \n",
       "min    0.000000e+00      -1.000000      -1.000000      -1.000000   \n",
       "25%    0.000000e+00      52.000000      -1.000000      52.000000   \n",
       "50%    0.000000e+00      52.000000      -1.000000      83.000000   \n",
       "75%    1.670000e+02     108.000000      52.000000     421.000000   \n",
       "max    1.039222e+08    1390.000000    1390.000000    1500.000000   \n",
       "\n",
       "           max_bpktl     mean_fpktl  ...      min_idle     mean_idle  \\\n",
       "count  631955.000000  631955.000000  ...  6.319550e+05  6.319550e+05   \n",
       "mean      183.248084     174.959706  ...  1.997327e+07  2.031228e+07   \n",
       "std       371.863224     162.024811  ...  1.897986e+08  1.897902e+08   \n",
       "min        -1.000000       0.000000  ... -1.000000e+00  0.000000e+00   \n",
       "25%        -1.000000      52.000000  ... -1.000000e+00  0.000000e+00   \n",
       "50%        -1.000000      83.000000  ... -1.000000e+00  0.000000e+00   \n",
       "75%       115.000000     356.000000  ...  1.013498e+06  1.291379e+06   \n",
       "max      1390.000000    1390.000000  ...  4.431072e+10  4.430000e+10   \n",
       "\n",
       "           max_idle      std_idle         FFNEPD  Init_Win_bytes_forward  \\\n",
       "count  6.319550e+05  6.319550e+05  631955.000000            6.319550e+05   \n",
       "mean   2.075238e+07  4.663875e+05       2.360896            9.620796e+05   \n",
       "std    1.899721e+08  6.199704e+06       3.041810            1.705655e+06   \n",
       "min   -1.000000e+00  0.000000e+00       2.000000           -1.000000e+00   \n",
       "25%   -1.000000e+00  0.000000e+00       2.000000            0.000000e+00   \n",
       "50%   -1.000000e+00  0.000000e+00       2.000000            8.761600e+04   \n",
       "75%    1.306116e+06  0.000000e+00       2.000000            3.046400e+05   \n",
       "max    4.431072e+10  8.470000e+08    2269.000000            4.194240e+06   \n",
       "\n",
       "       Init_Win_bytes_backward  RRT_samples_clnt  Act_data_pkt_forward  \\\n",
       "count             6.319550e+05     631955.000000          631955.00000   \n",
       "mean              3.104519e+05          9.733144               6.72471   \n",
       "std               6.647956e+05        347.877923             174.13813   \n",
       "min              -1.000000e+00          0.000000               0.00000   \n",
       "25%              -1.000000e+00          0.000000               1.00000   \n",
       "50%              -1.000000e+00          0.000000               1.00000   \n",
       "75%               9.049600e+04          1.000000               3.00000   \n",
       "max               4.194240e+06      74524.000000           48255.00000   \n",
       "\n",
       "       min_seg_size_forward  \n",
       "count         631955.000000  \n",
       "mean              19.965713  \n",
       "std               14.914261  \n",
       "min                0.000000  \n",
       "25%                0.000000  \n",
       "50%               32.000000  \n",
       "75%               32.000000  \n",
       "max               44.000000  \n",
       "\n",
       "[8 rows x 79 columns]"
      ]
     },
     "execution_count": 6,
     "metadata": {},
     "output_type": "execute_result"
    }
   ],
   "source": [
    "df.describe()"
   ]
  },
  {
   "cell_type": "code",
   "execution_count": 7,
   "id": "7fc7988c",
   "metadata": {},
   "outputs": [
    {
     "name": "stdout",
     "output_type": "stream",
     "text": [
      "<class 'pandas.core.frame.DataFrame'>\n",
      "RangeIndex: 631955 entries, 0 to 631954\n",
      "Data columns (total 80 columns):\n",
      " #   Column                   Non-Null Count   Dtype  \n",
      "---  ------                   --------------   -----  \n",
      " 0   duration                 631955 non-null  int64  \n",
      " 1   total_fpackets           631955 non-null  int64  \n",
      " 2   total_bpackets           631955 non-null  int64  \n",
      " 3   total_fpktl              631955 non-null  int64  \n",
      " 4   total_bpktl              631955 non-null  int64  \n",
      " 5   min_fpktl                631955 non-null  int64  \n",
      " 6   min_bpktl                631955 non-null  int64  \n",
      " 7   max_fpktl                631955 non-null  int64  \n",
      " 8   max_bpktl                631955 non-null  int64  \n",
      " 9   mean_fpktl               631955 non-null  float64\n",
      " 10  mean_bpktl               631955 non-null  float64\n",
      " 11  std_fpktl                631955 non-null  float64\n",
      " 12  std_bpktl                631955 non-null  float64\n",
      " 13  total_fiat               631955 non-null  int64  \n",
      " 14  total_biat               631955 non-null  int64  \n",
      " 15  min_fiat                 631955 non-null  int64  \n",
      " 16  min_biat                 631955 non-null  int64  \n",
      " 17  max_fiat                 631955 non-null  int64  \n",
      " 18  max_biat                 631955 non-null  int64  \n",
      " 19  mean_fiat                631955 non-null  float64\n",
      " 20  mean_biat                631955 non-null  float64\n",
      " 21  std_fiat                 631955 non-null  float64\n",
      " 22  std_biat                 631955 non-null  float64\n",
      " 23  fpsh_cnt                 631955 non-null  int64  \n",
      " 24  bpsh_cnt                 631955 non-null  int64  \n",
      " 25  furg_cnt                 631955 non-null  int64  \n",
      " 26  burg_cnt                 631955 non-null  int64  \n",
      " 27  total_fhlen              631955 non-null  int64  \n",
      " 28  total_bhlen              631955 non-null  int64  \n",
      " 29  fPktsPerSecond           631955 non-null  float64\n",
      " 30  bPktsPerSecond           631955 non-null  float64\n",
      " 31  flowPktsPerSecond        631955 non-null  float64\n",
      " 32  flowBytesPerSecond       631955 non-null  float64\n",
      " 33  min_flowpktl             631955 non-null  int64  \n",
      " 34  max_flowpktl             631955 non-null  int64  \n",
      " 35  mean_flowpktl            631955 non-null  float64\n",
      " 36  std_flowpktl             631955 non-null  float64\n",
      " 37  min_flowiat              631955 non-null  int64  \n",
      " 38  max_flowiat              631955 non-null  int64  \n",
      " 39  mean_flowiat             631955 non-null  float64\n",
      " 40  std_flowiat              631955 non-null  float64\n",
      " 41  flow_fin                 631955 non-null  int64  \n",
      " 42  flow_syn                 631955 non-null  int64  \n",
      " 43  flow_rst                 631955 non-null  int64  \n",
      " 44  flow_psh                 631955 non-null  int64  \n",
      " 45  flow_ack                 631955 non-null  int64  \n",
      " 46  flow_urg                 631955 non-null  int64  \n",
      " 47  flow_cwr                 631955 non-null  int64  \n",
      " 48  flow_ece                 631955 non-null  int64  \n",
      " 49  downUpRatio              631955 non-null  float64\n",
      " 50  avgPacketSize            631955 non-null  float64\n",
      " 51  fAvgSegmentSize          631955 non-null  float64\n",
      " 52  fHeaderBytes             631955 non-null  int64  \n",
      " 53  fAvgBytesPerBulk         631955 non-null  int64  \n",
      " 54  fAvgPacketsPerBulk       631955 non-null  int64  \n",
      " 55  fAvgBulkRate             631955 non-null  int64  \n",
      " 56  bVarianceDataBytes       631955 non-null  float64\n",
      " 57  bAvgSegmentSize          631955 non-null  int64  \n",
      " 58  bAvgBytesPerBulk         631955 non-null  int64  \n",
      " 59  bAvgPacketsPerBulk       631955 non-null  int64  \n",
      " 60  bAvgBulkRate             631955 non-null  int64  \n",
      " 61  sflow_fpacket            631955 non-null  int64  \n",
      " 62  sflow_fbytes             631955 non-null  int64  \n",
      " 63  sflow_bpacket            631955 non-null  int64  \n",
      " 64  sflow_bbytes             631955 non-null  int64  \n",
      " 65  min_active               631955 non-null  int64  \n",
      " 66  mean_active              631955 non-null  float64\n",
      " 67  max_active               631955 non-null  int64  \n",
      " 68  std_active               631955 non-null  float64\n",
      " 69  min_idle                 631955 non-null  int64  \n",
      " 70  mean_idle                631955 non-null  float64\n",
      " 71  max_idle                 631955 non-null  int64  \n",
      " 72  std_idle                 631955 non-null  float64\n",
      " 73  FFNEPD                   631955 non-null  int64  \n",
      " 74  Init_Win_bytes_forward   631955 non-null  int64  \n",
      " 75  Init_Win_bytes_backward  631955 non-null  int64  \n",
      " 76  RRT_samples_clnt         631955 non-null  int64  \n",
      " 77  Act_data_pkt_forward     631955 non-null  int64  \n",
      " 78  min_seg_size_forward     631955 non-null  int64  \n",
      " 79  calss                    631955 non-null  object \n",
      "dtypes: float64(24), int64(55), object(1)\n",
      "memory usage: 385.7+ MB\n"
     ]
    }
   ],
   "source": [
    "df.info()"
   ]
  },
  {
   "cell_type": "code",
   "execution_count": 8,
   "id": "47284bce",
   "metadata": {},
   "outputs": [
    {
     "name": "stdout",
     "output_type": "stream",
     "text": [
      "Longitud del DataSet: 631955\n",
      "Número de características del DataSet: 80\n"
     ]
    }
   ],
   "source": [
    "# Visualización y descripción del conjunto de datos\n",
    "print(\"Longitud del DataSet:\", len(df))\n",
    "print(\"Número de características del DataSet:\", len(df.columns))"
   ]
  },
  {
   "cell_type": "markdown",
   "id": "d7dc2105",
   "metadata": {},
   "source": [
    "## Coversion de etiquetas de la variable objetivo"
   ]
  },
  {
   "cell_type": "code",
   "execution_count": 9,
   "id": "ac68ece9",
   "metadata": {},
   "outputs": [],
   "source": [
    "# Transformar la variable objetivo (etiquetas) a numérica\n",
    "df[\"calss\"] = df[\"calss\"].factorize()[0]"
   ]
  },
  {
   "cell_type": "markdown",
   "id": "f6c8ad27",
   "metadata": {},
   "source": [
    "## Division del DataSet."
   ]
  },
  {
   "cell_type": "code",
   "execution_count": 10,
   "id": "9263cf93",
   "metadata": {},
   "outputs": [],
   "source": [
    "train_set, val_set, test_set = train_val_test_split(df, stratify=\"calss\")"
   ]
  },
  {
   "cell_type": "code",
   "execution_count": 11,
   "id": "26cb6ca7",
   "metadata": {},
   "outputs": [],
   "source": [
    "# Separación de características y etiquetas para cada conjunto\n",
    "X_train, y_train = remove_labels(train_set, \"calss\")\n",
    "X_val, y_val = remove_labels(val_set, \"calss\")\n",
    "X_test, y_test = remove_labels(test_set, \"calss\")"
   ]
  },
  {
   "cell_type": "markdown",
   "id": "34d276a3",
   "metadata": {},
   "source": [
    "## Escalado de caracteristicas"
   ]
  },
  {
   "cell_type": "code",
   "execution_count": 12,
   "id": "aa0ff80c",
   "metadata": {},
   "outputs": [],
   "source": [
    "scaler = RobustScaler()\n",
    "X_train_scaled = scaler.fit_transform(X_train)\n",
    "X_val_scaled = scaler.transform(X_val)\n",
    "X_test_scaled = scaler.transform(X_test)"
   ]
  },
  {
   "cell_type": "markdown",
   "id": "6f585a09",
   "metadata": {},
   "source": [
    "## Conjunto Datos a DF."
   ]
  },
  {
   "cell_type": "code",
   "execution_count": 13,
   "id": "5c39f37d",
   "metadata": {},
   "outputs": [],
   "source": [
    "X_train_scaled = DataFrame(X_train_scaled, columns=X_train.columns, index=X_train.index)\n",
    "X_val_scaled = DataFrame(X_val_scaled, columns=X_val.columns, index=X_val.index)\n",
    "X_test_scaled = DataFrame(X_test_scaled, columns=X_test.columns, index=X_test.index)"
   ]
  },
  {
   "cell_type": "markdown",
   "id": "f6569612",
   "metadata": {},
   "source": [
    "# Modelo Random Forest para clasificación sin escalado"
   ]
  },
  {
   "cell_type": "code",
   "execution_count": 14,
   "id": "7707ecec",
   "metadata": {},
   "outputs": [
    {
     "data": {
      "text/html": [
       "<style>#sk-container-id-1 {color: black;}#sk-container-id-1 pre{padding: 0;}#sk-container-id-1 div.sk-toggleable {background-color: white;}#sk-container-id-1 label.sk-toggleable__label {cursor: pointer;display: block;width: 100%;margin-bottom: 0;padding: 0.3em;box-sizing: border-box;text-align: center;}#sk-container-id-1 label.sk-toggleable__label-arrow:before {content: \"▸\";float: left;margin-right: 0.25em;color: #696969;}#sk-container-id-1 label.sk-toggleable__label-arrow:hover:before {color: black;}#sk-container-id-1 div.sk-estimator:hover label.sk-toggleable__label-arrow:before {color: black;}#sk-container-id-1 div.sk-toggleable__content {max-height: 0;max-width: 0;overflow: hidden;text-align: left;background-color: #f0f8ff;}#sk-container-id-1 div.sk-toggleable__content pre {margin: 0.2em;color: black;border-radius: 0.25em;background-color: #f0f8ff;}#sk-container-id-1 input.sk-toggleable__control:checked~div.sk-toggleable__content {max-height: 200px;max-width: 100%;overflow: auto;}#sk-container-id-1 input.sk-toggleable__control:checked~label.sk-toggleable__label-arrow:before {content: \"▾\";}#sk-container-id-1 div.sk-estimator input.sk-toggleable__control:checked~label.sk-toggleable__label {background-color: #d4ebff;}#sk-container-id-1 div.sk-label input.sk-toggleable__control:checked~label.sk-toggleable__label {background-color: #d4ebff;}#sk-container-id-1 input.sk-hidden--visually {border: 0;clip: rect(1px 1px 1px 1px);clip: rect(1px, 1px, 1px, 1px);height: 1px;margin: -1px;overflow: hidden;padding: 0;position: absolute;width: 1px;}#sk-container-id-1 div.sk-estimator {font-family: monospace;background-color: #f0f8ff;border: 1px dotted black;border-radius: 0.25em;box-sizing: border-box;margin-bottom: 0.5em;}#sk-container-id-1 div.sk-estimator:hover {background-color: #d4ebff;}#sk-container-id-1 div.sk-parallel-item::after {content: \"\";width: 100%;border-bottom: 1px solid gray;flex-grow: 1;}#sk-container-id-1 div.sk-label:hover label.sk-toggleable__label {background-color: #d4ebff;}#sk-container-id-1 div.sk-serial::before {content: \"\";position: absolute;border-left: 1px solid gray;box-sizing: border-box;top: 0;bottom: 0;left: 50%;z-index: 0;}#sk-container-id-1 div.sk-serial {display: flex;flex-direction: column;align-items: center;background-color: white;padding-right: 0.2em;padding-left: 0.2em;position: relative;}#sk-container-id-1 div.sk-item {position: relative;z-index: 1;}#sk-container-id-1 div.sk-parallel {display: flex;align-items: stretch;justify-content: center;background-color: white;position: relative;}#sk-container-id-1 div.sk-item::before, #sk-container-id-1 div.sk-parallel-item::before {content: \"\";position: absolute;border-left: 1px solid gray;box-sizing: border-box;top: 0;bottom: 0;left: 50%;z-index: -1;}#sk-container-id-1 div.sk-parallel-item {display: flex;flex-direction: column;z-index: 1;position: relative;background-color: white;}#sk-container-id-1 div.sk-parallel-item:first-child::after {align-self: flex-end;width: 50%;}#sk-container-id-1 div.sk-parallel-item:last-child::after {align-self: flex-start;width: 50%;}#sk-container-id-1 div.sk-parallel-item:only-child::after {width: 0;}#sk-container-id-1 div.sk-dashed-wrapped {border: 1px dashed gray;margin: 0 0.4em 0.5em 0.4em;box-sizing: border-box;padding-bottom: 0.4em;background-color: white;}#sk-container-id-1 div.sk-label label {font-family: monospace;font-weight: bold;display: inline-block;line-height: 1.2em;}#sk-container-id-1 div.sk-label-container {text-align: center;}#sk-container-id-1 div.sk-container {/* jupyter's `normalize.less` sets `[hidden] { display: none; }` but bootstrap.min.css set `[hidden] { display: none !important; }` so we also need the `!important` here to be able to override the default hidden behavior on the sphinx rendered scikit-learn.org. See: https://github.com/scikit-learn/scikit-learn/issues/21755 */display: inline-block !important;position: relative;}#sk-container-id-1 div.sk-text-repr-fallback {display: none;}</style><div id=\"sk-container-id-1\" class=\"sk-top-container\"><div class=\"sk-text-repr-fallback\"><pre>RandomForestClassifier(n_jobs=-1, random_state=42)</pre><b>In a Jupyter environment, please rerun this cell to show the HTML representation or trust the notebook. <br />On GitHub, the HTML representation is unable to render, please try loading this page with nbviewer.org.</b></div><div class=\"sk-container\" hidden><div class=\"sk-item\"><div class=\"sk-estimator sk-toggleable\"><input class=\"sk-toggleable__control sk-hidden--visually\" id=\"sk-estimator-id-1\" type=\"checkbox\" checked><label for=\"sk-estimator-id-1\" class=\"sk-toggleable__label sk-toggleable__label-arrow\">RandomForestClassifier</label><div class=\"sk-toggleable__content\"><pre>RandomForestClassifier(n_jobs=-1, random_state=42)</pre></div></div></div></div></div>"
      ],
      "text/plain": [
       "RandomForestClassifier(n_jobs=-1, random_state=42)"
      ]
     },
     "execution_count": 14,
     "metadata": {},
     "output_type": "execute_result"
    }
   ],
   "source": [
    "clf_rnd = RandomForestClassifier(n_estimators=100, random_state=42, n_jobs=-1)\n",
    "clf_rnd.fit(X_train, y_train)"
   ]
  },
  {
   "cell_type": "markdown",
   "id": "d9db5809",
   "metadata": {},
   "source": [
    "# Modelo Random Forest para clasificación con escalado"
   ]
  },
  {
   "cell_type": "code",
   "execution_count": 15,
   "id": "beb773d4",
   "metadata": {},
   "outputs": [
    {
     "data": {
      "text/html": [
       "<style>#sk-container-id-2 {color: black;}#sk-container-id-2 pre{padding: 0;}#sk-container-id-2 div.sk-toggleable {background-color: white;}#sk-container-id-2 label.sk-toggleable__label {cursor: pointer;display: block;width: 100%;margin-bottom: 0;padding: 0.3em;box-sizing: border-box;text-align: center;}#sk-container-id-2 label.sk-toggleable__label-arrow:before {content: \"▸\";float: left;margin-right: 0.25em;color: #696969;}#sk-container-id-2 label.sk-toggleable__label-arrow:hover:before {color: black;}#sk-container-id-2 div.sk-estimator:hover label.sk-toggleable__label-arrow:before {color: black;}#sk-container-id-2 div.sk-toggleable__content {max-height: 0;max-width: 0;overflow: hidden;text-align: left;background-color: #f0f8ff;}#sk-container-id-2 div.sk-toggleable__content pre {margin: 0.2em;color: black;border-radius: 0.25em;background-color: #f0f8ff;}#sk-container-id-2 input.sk-toggleable__control:checked~div.sk-toggleable__content {max-height: 200px;max-width: 100%;overflow: auto;}#sk-container-id-2 input.sk-toggleable__control:checked~label.sk-toggleable__label-arrow:before {content: \"▾\";}#sk-container-id-2 div.sk-estimator input.sk-toggleable__control:checked~label.sk-toggleable__label {background-color: #d4ebff;}#sk-container-id-2 div.sk-label input.sk-toggleable__control:checked~label.sk-toggleable__label {background-color: #d4ebff;}#sk-container-id-2 input.sk-hidden--visually {border: 0;clip: rect(1px 1px 1px 1px);clip: rect(1px, 1px, 1px, 1px);height: 1px;margin: -1px;overflow: hidden;padding: 0;position: absolute;width: 1px;}#sk-container-id-2 div.sk-estimator {font-family: monospace;background-color: #f0f8ff;border: 1px dotted black;border-radius: 0.25em;box-sizing: border-box;margin-bottom: 0.5em;}#sk-container-id-2 div.sk-estimator:hover {background-color: #d4ebff;}#sk-container-id-2 div.sk-parallel-item::after {content: \"\";width: 100%;border-bottom: 1px solid gray;flex-grow: 1;}#sk-container-id-2 div.sk-label:hover label.sk-toggleable__label {background-color: #d4ebff;}#sk-container-id-2 div.sk-serial::before {content: \"\";position: absolute;border-left: 1px solid gray;box-sizing: border-box;top: 0;bottom: 0;left: 50%;z-index: 0;}#sk-container-id-2 div.sk-serial {display: flex;flex-direction: column;align-items: center;background-color: white;padding-right: 0.2em;padding-left: 0.2em;position: relative;}#sk-container-id-2 div.sk-item {position: relative;z-index: 1;}#sk-container-id-2 div.sk-parallel {display: flex;align-items: stretch;justify-content: center;background-color: white;position: relative;}#sk-container-id-2 div.sk-item::before, #sk-container-id-2 div.sk-parallel-item::before {content: \"\";position: absolute;border-left: 1px solid gray;box-sizing: border-box;top: 0;bottom: 0;left: 50%;z-index: -1;}#sk-container-id-2 div.sk-parallel-item {display: flex;flex-direction: column;z-index: 1;position: relative;background-color: white;}#sk-container-id-2 div.sk-parallel-item:first-child::after {align-self: flex-end;width: 50%;}#sk-container-id-2 div.sk-parallel-item:last-child::after {align-self: flex-start;width: 50%;}#sk-container-id-2 div.sk-parallel-item:only-child::after {width: 0;}#sk-container-id-2 div.sk-dashed-wrapped {border: 1px dashed gray;margin: 0 0.4em 0.5em 0.4em;box-sizing: border-box;padding-bottom: 0.4em;background-color: white;}#sk-container-id-2 div.sk-label label {font-family: monospace;font-weight: bold;display: inline-block;line-height: 1.2em;}#sk-container-id-2 div.sk-label-container {text-align: center;}#sk-container-id-2 div.sk-container {/* jupyter's `normalize.less` sets `[hidden] { display: none; }` but bootstrap.min.css set `[hidden] { display: none !important; }` so we also need the `!important` here to be able to override the default hidden behavior on the sphinx rendered scikit-learn.org. See: https://github.com/scikit-learn/scikit-learn/issues/21755 */display: inline-block !important;position: relative;}#sk-container-id-2 div.sk-text-repr-fallback {display: none;}</style><div id=\"sk-container-id-2\" class=\"sk-top-container\"><div class=\"sk-text-repr-fallback\"><pre>RandomForestClassifier(n_jobs=-1, random_state=42)</pre><b>In a Jupyter environment, please rerun this cell to show the HTML representation or trust the notebook. <br />On GitHub, the HTML representation is unable to render, please try loading this page with nbviewer.org.</b></div><div class=\"sk-container\" hidden><div class=\"sk-item\"><div class=\"sk-estimator sk-toggleable\"><input class=\"sk-toggleable__control sk-hidden--visually\" id=\"sk-estimator-id-2\" type=\"checkbox\" checked><label for=\"sk-estimator-id-2\" class=\"sk-toggleable__label sk-toggleable__label-arrow\">RandomForestClassifier</label><div class=\"sk-toggleable__content\"><pre>RandomForestClassifier(n_jobs=-1, random_state=42)</pre></div></div></div></div></div>"
      ],
      "text/plain": [
       "RandomForestClassifier(n_jobs=-1, random_state=42)"
      ]
     },
     "execution_count": 15,
     "metadata": {},
     "output_type": "execute_result"
    }
   ],
   "source": [
    "clf_rnd_scaled = RandomForestClassifier(n_estimators=100, random_state=42, n_jobs=-1)\n",
    "clf_rnd_scaled.fit(X_train_scaled, y_train)"
   ]
  },
  {
   "cell_type": "markdown",
   "id": "f08712c5",
   "metadata": {},
   "source": [
    "# Evaluación de los modelos de clasificación"
   ]
  },
  {
   "cell_type": "code",
   "execution_count": 16,
   "id": "49f1d69c",
   "metadata": {},
   "outputs": [],
   "source": [
    "def evaluate_result(y_pred, y, y_prep_pred, y_prep, metric):\n",
    "    print(metric.__name__, \"SIN escalado:\", metric(y_pred, y, average=\"weighted\"))\n",
    "    print(metric.__name__, \"CON escalado:\", metric(y_prep_pred, y_prep, average=\"weighted\"))"
   ]
  },
  {
   "cell_type": "markdown",
   "id": "2819e9d7",
   "metadata": {},
   "source": [
    "# Predicciones y evaluación de clasificación"
   ]
  },
  {
   "cell_type": "code",
   "execution_count": 17,
   "id": "541002ec",
   "metadata": {},
   "outputs": [],
   "source": [
    "y_train_pred = clf_rnd.predict(X_train)\n",
    "y_train_prep_pred = clf_rnd_scaled.predict(X_train_scaled)"
   ]
  },
  {
   "cell_type": "code",
   "execution_count": 18,
   "id": "df89517e",
   "metadata": {},
   "outputs": [
    {
     "name": "stdout",
     "output_type": "stream",
     "text": [
      "f1_score SIN escalado: 0.9812305622683857\n",
      "f1_score CON escalado: 0.9811846879189869\n"
     ]
    }
   ],
   "source": [
    "from sklearn.metrics import f1_score, mean_absolute_error, mean_squared_error\n",
    "# Evaluación de clasificación sin escalado y con escalado\n",
    "evaluate_result(y_train_pred, y_train, y_train_prep_pred, y_train, f1_score)"
   ]
  },
  {
   "cell_type": "code",
   "execution_count": 19,
   "id": "73de3615",
   "metadata": {},
   "outputs": [],
   "source": [
    "y_val_pred = clf_rnd.predict(X_val)\n",
    "y_val_prep_pred = clf_rnd_scaled.predict(X_val_scaled)"
   ]
  },
  {
   "cell_type": "code",
   "execution_count": 20,
   "id": "3b093b1f",
   "metadata": {},
   "outputs": [
    {
     "name": "stdout",
     "output_type": "stream",
     "text": [
      "f1_score SIN escalado: 0.9329344485207943\n",
      "f1_score CON escalado: 0.9325035661187642\n"
     ]
    }
   ],
   "source": [
    "# Evaluación para el conjunto de validación\n",
    "evaluate_result(y_val_pred, y_val, y_val_prep_pred, y_val, f1_score)"
   ]
  },
  {
   "cell_type": "code",
   "execution_count": 21,
   "id": "9848ab0e",
   "metadata": {},
   "outputs": [
    {
     "data": {
      "text/html": [
       "<style>#sk-container-id-3 {color: black;}#sk-container-id-3 pre{padding: 0;}#sk-container-id-3 div.sk-toggleable {background-color: white;}#sk-container-id-3 label.sk-toggleable__label {cursor: pointer;display: block;width: 100%;margin-bottom: 0;padding: 0.3em;box-sizing: border-box;text-align: center;}#sk-container-id-3 label.sk-toggleable__label-arrow:before {content: \"▸\";float: left;margin-right: 0.25em;color: #696969;}#sk-container-id-3 label.sk-toggleable__label-arrow:hover:before {color: black;}#sk-container-id-3 div.sk-estimator:hover label.sk-toggleable__label-arrow:before {color: black;}#sk-container-id-3 div.sk-toggleable__content {max-height: 0;max-width: 0;overflow: hidden;text-align: left;background-color: #f0f8ff;}#sk-container-id-3 div.sk-toggleable__content pre {margin: 0.2em;color: black;border-radius: 0.25em;background-color: #f0f8ff;}#sk-container-id-3 input.sk-toggleable__control:checked~div.sk-toggleable__content {max-height: 200px;max-width: 100%;overflow: auto;}#sk-container-id-3 input.sk-toggleable__control:checked~label.sk-toggleable__label-arrow:before {content: \"▾\";}#sk-container-id-3 div.sk-estimator input.sk-toggleable__control:checked~label.sk-toggleable__label {background-color: #d4ebff;}#sk-container-id-3 div.sk-label input.sk-toggleable__control:checked~label.sk-toggleable__label {background-color: #d4ebff;}#sk-container-id-3 input.sk-hidden--visually {border: 0;clip: rect(1px 1px 1px 1px);clip: rect(1px, 1px, 1px, 1px);height: 1px;margin: -1px;overflow: hidden;padding: 0;position: absolute;width: 1px;}#sk-container-id-3 div.sk-estimator {font-family: monospace;background-color: #f0f8ff;border: 1px dotted black;border-radius: 0.25em;box-sizing: border-box;margin-bottom: 0.5em;}#sk-container-id-3 div.sk-estimator:hover {background-color: #d4ebff;}#sk-container-id-3 div.sk-parallel-item::after {content: \"\";width: 100%;border-bottom: 1px solid gray;flex-grow: 1;}#sk-container-id-3 div.sk-label:hover label.sk-toggleable__label {background-color: #d4ebff;}#sk-container-id-3 div.sk-serial::before {content: \"\";position: absolute;border-left: 1px solid gray;box-sizing: border-box;top: 0;bottom: 0;left: 50%;z-index: 0;}#sk-container-id-3 div.sk-serial {display: flex;flex-direction: column;align-items: center;background-color: white;padding-right: 0.2em;padding-left: 0.2em;position: relative;}#sk-container-id-3 div.sk-item {position: relative;z-index: 1;}#sk-container-id-3 div.sk-parallel {display: flex;align-items: stretch;justify-content: center;background-color: white;position: relative;}#sk-container-id-3 div.sk-item::before, #sk-container-id-3 div.sk-parallel-item::before {content: \"\";position: absolute;border-left: 1px solid gray;box-sizing: border-box;top: 0;bottom: 0;left: 50%;z-index: -1;}#sk-container-id-3 div.sk-parallel-item {display: flex;flex-direction: column;z-index: 1;position: relative;background-color: white;}#sk-container-id-3 div.sk-parallel-item:first-child::after {align-self: flex-end;width: 50%;}#sk-container-id-3 div.sk-parallel-item:last-child::after {align-self: flex-start;width: 50%;}#sk-container-id-3 div.sk-parallel-item:only-child::after {width: 0;}#sk-container-id-3 div.sk-dashed-wrapped {border: 1px dashed gray;margin: 0 0.4em 0.5em 0.4em;box-sizing: border-box;padding-bottom: 0.4em;background-color: white;}#sk-container-id-3 div.sk-label label {font-family: monospace;font-weight: bold;display: inline-block;line-height: 1.2em;}#sk-container-id-3 div.sk-label-container {text-align: center;}#sk-container-id-3 div.sk-container {/* jupyter's `normalize.less` sets `[hidden] { display: none; }` but bootstrap.min.css set `[hidden] { display: none !important; }` so we also need the `!important` here to be able to override the default hidden behavior on the sphinx rendered scikit-learn.org. See: https://github.com/scikit-learn/scikit-learn/issues/21755 */display: inline-block !important;position: relative;}#sk-container-id-3 div.sk-text-repr-fallback {display: none;}</style><div id=\"sk-container-id-3\" class=\"sk-top-container\"><div class=\"sk-text-repr-fallback\"><pre>RandomForestRegressor(n_jobs=-1, random_state=42)</pre><b>In a Jupyter environment, please rerun this cell to show the HTML representation or trust the notebook. <br />On GitHub, the HTML representation is unable to render, please try loading this page with nbviewer.org.</b></div><div class=\"sk-container\" hidden><div class=\"sk-item\"><div class=\"sk-estimator sk-toggleable\"><input class=\"sk-toggleable__control sk-hidden--visually\" id=\"sk-estimator-id-3\" type=\"checkbox\" checked><label for=\"sk-estimator-id-3\" class=\"sk-toggleable__label sk-toggleable__label-arrow\">RandomForestRegressor</label><div class=\"sk-toggleable__content\"><pre>RandomForestRegressor(n_jobs=-1, random_state=42)</pre></div></div></div></div></div>"
      ],
      "text/plain": [
       "RandomForestRegressor(n_jobs=-1, random_state=42)"
      ]
     },
     "execution_count": 21,
     "metadata": {},
     "output_type": "execute_result"
    }
   ],
   "source": [
    "from sklearn.ensemble import RandomForestRegressor\n",
    "\n",
    "# Modelo de regresión con Random Forest (sin escalado)\n",
    "clf_rnd_reg = RandomForestRegressor(n_estimators=100, random_state=42, n_jobs=-1)\n",
    "clf_rnd_reg.fit(X_train, y_train)"
   ]
  },
  {
   "cell_type": "code",
   "execution_count": 22,
   "id": "1fb96038",
   "metadata": {},
   "outputs": [
    {
     "data": {
      "text/html": [
       "<style>#sk-container-id-4 {color: black;}#sk-container-id-4 pre{padding: 0;}#sk-container-id-4 div.sk-toggleable {background-color: white;}#sk-container-id-4 label.sk-toggleable__label {cursor: pointer;display: block;width: 100%;margin-bottom: 0;padding: 0.3em;box-sizing: border-box;text-align: center;}#sk-container-id-4 label.sk-toggleable__label-arrow:before {content: \"▸\";float: left;margin-right: 0.25em;color: #696969;}#sk-container-id-4 label.sk-toggleable__label-arrow:hover:before {color: black;}#sk-container-id-4 div.sk-estimator:hover label.sk-toggleable__label-arrow:before {color: black;}#sk-container-id-4 div.sk-toggleable__content {max-height: 0;max-width: 0;overflow: hidden;text-align: left;background-color: #f0f8ff;}#sk-container-id-4 div.sk-toggleable__content pre {margin: 0.2em;color: black;border-radius: 0.25em;background-color: #f0f8ff;}#sk-container-id-4 input.sk-toggleable__control:checked~div.sk-toggleable__content {max-height: 200px;max-width: 100%;overflow: auto;}#sk-container-id-4 input.sk-toggleable__control:checked~label.sk-toggleable__label-arrow:before {content: \"▾\";}#sk-container-id-4 div.sk-estimator input.sk-toggleable__control:checked~label.sk-toggleable__label {background-color: #d4ebff;}#sk-container-id-4 div.sk-label input.sk-toggleable__control:checked~label.sk-toggleable__label {background-color: #d4ebff;}#sk-container-id-4 input.sk-hidden--visually {border: 0;clip: rect(1px 1px 1px 1px);clip: rect(1px, 1px, 1px, 1px);height: 1px;margin: -1px;overflow: hidden;padding: 0;position: absolute;width: 1px;}#sk-container-id-4 div.sk-estimator {font-family: monospace;background-color: #f0f8ff;border: 1px dotted black;border-radius: 0.25em;box-sizing: border-box;margin-bottom: 0.5em;}#sk-container-id-4 div.sk-estimator:hover {background-color: #d4ebff;}#sk-container-id-4 div.sk-parallel-item::after {content: \"\";width: 100%;border-bottom: 1px solid gray;flex-grow: 1;}#sk-container-id-4 div.sk-label:hover label.sk-toggleable__label {background-color: #d4ebff;}#sk-container-id-4 div.sk-serial::before {content: \"\";position: absolute;border-left: 1px solid gray;box-sizing: border-box;top: 0;bottom: 0;left: 50%;z-index: 0;}#sk-container-id-4 div.sk-serial {display: flex;flex-direction: column;align-items: center;background-color: white;padding-right: 0.2em;padding-left: 0.2em;position: relative;}#sk-container-id-4 div.sk-item {position: relative;z-index: 1;}#sk-container-id-4 div.sk-parallel {display: flex;align-items: stretch;justify-content: center;background-color: white;position: relative;}#sk-container-id-4 div.sk-item::before, #sk-container-id-4 div.sk-parallel-item::before {content: \"\";position: absolute;border-left: 1px solid gray;box-sizing: border-box;top: 0;bottom: 0;left: 50%;z-index: -1;}#sk-container-id-4 div.sk-parallel-item {display: flex;flex-direction: column;z-index: 1;position: relative;background-color: white;}#sk-container-id-4 div.sk-parallel-item:first-child::after {align-self: flex-end;width: 50%;}#sk-container-id-4 div.sk-parallel-item:last-child::after {align-self: flex-start;width: 50%;}#sk-container-id-4 div.sk-parallel-item:only-child::after {width: 0;}#sk-container-id-4 div.sk-dashed-wrapped {border: 1px dashed gray;margin: 0 0.4em 0.5em 0.4em;box-sizing: border-box;padding-bottom: 0.4em;background-color: white;}#sk-container-id-4 div.sk-label label {font-family: monospace;font-weight: bold;display: inline-block;line-height: 1.2em;}#sk-container-id-4 div.sk-label-container {text-align: center;}#sk-container-id-4 div.sk-container {/* jupyter's `normalize.less` sets `[hidden] { display: none; }` but bootstrap.min.css set `[hidden] { display: none !important; }` so we also need the `!important` here to be able to override the default hidden behavior on the sphinx rendered scikit-learn.org. See: https://github.com/scikit-learn/scikit-learn/issues/21755 */display: inline-block !important;position: relative;}#sk-container-id-4 div.sk-text-repr-fallback {display: none;}</style><div id=\"sk-container-id-4\" class=\"sk-top-container\"><div class=\"sk-text-repr-fallback\"><pre>RandomForestRegressor(n_jobs=-1, random_state=42)</pre><b>In a Jupyter environment, please rerun this cell to show the HTML representation or trust the notebook. <br />On GitHub, the HTML representation is unable to render, please try loading this page with nbviewer.org.</b></div><div class=\"sk-container\" hidden><div class=\"sk-item\"><div class=\"sk-estimator sk-toggleable\"><input class=\"sk-toggleable__control sk-hidden--visually\" id=\"sk-estimator-id-4\" type=\"checkbox\" checked><label for=\"sk-estimator-id-4\" class=\"sk-toggleable__label sk-toggleable__label-arrow\">RandomForestRegressor</label><div class=\"sk-toggleable__content\"><pre>RandomForestRegressor(n_jobs=-1, random_state=42)</pre></div></div></div></div></div>"
      ],
      "text/plain": [
       "RandomForestRegressor(n_jobs=-1, random_state=42)"
      ]
     },
     "execution_count": 22,
     "metadata": {},
     "output_type": "execute_result"
    }
   ],
   "source": [
    "# Modelo de regresión con Random Forest (con escalado)\n",
    "clf_rnd_reg_scaled = RandomForestRegressor(n_estimators=100, random_state=42, n_jobs=-1)\n",
    "clf_rnd_reg_scaled.fit(X_train_scaled, y_train)\n"
   ]
  },
  {
   "cell_type": "code",
   "execution_count": 23,
   "id": "83976f86",
   "metadata": {},
   "outputs": [],
   "source": [
    "# Predicciones de regresión para el conjunto de entrenamiento\n",
    "y_train_reg_pred = clf_rnd_reg.predict(X_train)\n",
    "y_train_scaled_reg_pred = clf_rnd_reg_scaled.predict(X_train_scaled)"
   ]
  },
  {
   "cell_type": "code",
   "execution_count": 24,
   "id": "a6ba0f97",
   "metadata": {},
   "outputs": [],
   "source": [
    "# Predicciones de regresión para el conjunto de validación\n",
    "y_val_reg_pred = clf_rnd_reg.predict(X_val)\n",
    "y_val_scaled_reg_pred = clf_rnd_reg_scaled.predict(X_val_scaled)"
   ]
  },
  {
   "cell_type": "code",
   "execution_count": 25,
   "id": "668ea07f",
   "metadata": {},
   "outputs": [],
   "source": [
    "# Cálculo de métricas de regresión (RMSE y MAE)\n",
    "train_rmse = mean_squared_error(y_train, y_train_reg_pred, squared=False)\n",
    "val_rmse = mean_squared_error(y_val, y_val_reg_pred, squared=False)\n",
    "\n",
    "train_mae = mean_absolute_error(y_train, y_train_reg_pred)\n",
    "val_mae = mean_absolute_error(y_val, y_val_reg_pred)\n",
    "\n",
    "train_scaled_rmse = mean_squared_error(y_train, y_train_scaled_reg_pred, squared=False)\n",
    "val_scaled_rmse = mean_squared_error(y_val, y_val_scaled_reg_pred, squared=False)\n",
    "\n",
    "train_scaled_mae = mean_absolute_error(y_train, y_train_scaled_reg_pred)\n",
    "val_scaled_mae = mean_absolute_error(y_val, y_val_scaled_reg_pred)"
   ]
  },
  {
   "cell_type": "markdown",
   "id": "38c99d30",
   "metadata": {},
   "source": [
    "## Validaciones"
   ]
  },
  {
   "cell_type": "code",
   "execution_count": 26,
   "id": "5e8c2106",
   "metadata": {},
   "outputs": [
    {
     "name": "stdout",
     "output_type": "stream",
     "text": [
      "\n",
      "Sin Escalado:\n",
      "RMSE (Train Set): 0.14133010539665553\n",
      "RMSE (Validation Set): 0.2369317508275916\n",
      "MAE (Train Set): 0.04830799212691874\n",
      "MAE (Validation Set): 0.08776182722366305\n",
      "\n",
      "Con Escalado:\n",
      "RMSE (Train Set): 0.14130703896691513\n",
      "RMSE (Validation Set): 0.2369438902524357\n",
      "MAE (Train Set): 0.04829978426252633\n",
      "MAE (Validation Set): 0.08772944379396007\n"
     ]
    }
   ],
   "source": [
    "print(\"\\nSin Escalado:\")\n",
    "print(\"RMSE (Train Set):\", train_rmse)\n",
    "print(\"RMSE (Validation Set):\", val_rmse)\n",
    "print(\"MAE (Train Set):\", train_mae)\n",
    "print(\"MAE (Validation Set):\", val_mae)\n",
    "\n",
    "print(\"\\nCon Escalado:\")\n",
    "print(\"RMSE (Train Set):\", train_scaled_rmse)\n",
    "print(\"RMSE (Validation Set):\", val_scaled_rmse)\n",
    "print(\"MAE (Train Set):\", train_scaled_mae)\n",
    "print(\"MAE (Validation Set):\", val_scaled_mae)"
   ]
  },
  {
   "cell_type": "code",
   "execution_count": 27,
   "id": "3168ed41",
   "metadata": {},
   "outputs": [],
   "source": [
    "# Predicciones en el conjunto de prueba (test set)\n",
    "y_test_pred = clf_rnd.predict(X_test)\n",
    "y_test_prep_pred = clf_rnd_scaled.predict(X_test_scaled)"
   ]
  },
  {
   "cell_type": "code",
   "execution_count": 28,
   "id": "4db0da36",
   "metadata": {},
   "outputs": [
    {
     "name": "stdout",
     "output_type": "stream",
     "text": [
      "f1_score SIN escalado: 0.9348159654880637\n",
      "f1_score CON escalado: 0.9344953918990812\n"
     ]
    }
   ],
   "source": [
    "# Evaluación final en el conjunto de prueba para clasificación\n",
    "evaluate_result(y_test_pred, y_test, y_test_prep_pred, y_test, f1_score)"
   ]
  },
  {
   "cell_type": "code",
   "execution_count": 29,
   "id": "e4422c0a",
   "metadata": {},
   "outputs": [],
   "source": [
    "# Predicciones de regresión para el conjunto de prueba\n",
    "y_test_reg_pred = clf_rnd_reg.predict(X_test)\n",
    "y_test_scaled_reg_pred = clf_rnd_reg_scaled.predict(X_test_scaled)"
   ]
  },
  {
   "cell_type": "code",
   "execution_count": 30,
   "id": "d3fa151a",
   "metadata": {},
   "outputs": [],
   "source": [
    "# Cálculo de métricas de regresión para el conjunto de prueba\n",
    "test_rmse = mean_squared_error(y_test, y_test_reg_pred, squared=False)\n",
    "test_scaled_rmse = mean_squared_error(y_test, y_test_scaled_reg_pred, squared=False)"
   ]
  },
  {
   "cell_type": "code",
   "execution_count": 31,
   "id": "1b954ea2",
   "metadata": {},
   "outputs": [],
   "source": [
    "test_mae = mean_absolute_error(y_test, y_test_reg_pred)\n",
    "test_scaled_mae = mean_absolute_error(y_test, y_test_scaled_reg_pred)"
   ]
  },
  {
   "cell_type": "markdown",
   "id": "6da21f71",
   "metadata": {},
   "source": [
    "## RESULTADOS"
   ]
  },
  {
   "cell_type": "code",
   "execution_count": 32,
   "id": "4ddac642",
   "metadata": {},
   "outputs": [
    {
     "name": "stdout",
     "output_type": "stream",
     "text": [
      "\n",
      "Resultados de Regresión en el Test Set:\n",
      "RMSE (Test Set): 0.23305325274113609\n",
      "RMSE (Test Set) con Escalado: 0.2331455193577875\n",
      "MAE (Test Set): 0.08564740459238591\n",
      "MAE (Test Set) con Escalado: 0.08569339266087475\n"
     ]
    }
   ],
   "source": [
    "print(\"\\nResultados de Regresión en el Test Set:\")\n",
    "print(\"RMSE (Test Set):\", test_rmse)\n",
    "print(\"RMSE (Test Set) con Escalado:\", test_scaled_rmse)\n",
    "print(\"MAE (Test Set):\", test_mae)\n",
    "print(\"MAE (Test Set) con Escalado:\", test_scaled_mae)"
   ]
  },
  {
   "cell_type": "code",
   "execution_count": null,
   "id": "9b1ef6f5",
   "metadata": {},
   "outputs": [],
   "source": []
  }
 ],
 "metadata": {
  "kernelspec": {
   "display_name": "Python 3 (ipykernel)",
   "language": "python",
   "name": "python3"
  },
  "language_info": {
   "codemirror_mode": {
    "name": "ipython",
    "version": 3
   },
   "file_extension": ".py",
   "mimetype": "text/x-python",
   "name": "python",
   "nbconvert_exporter": "python",
   "pygments_lexer": "ipython3",
   "version": "3.11.4"
  }
 },
 "nbformat": 4,
 "nbformat_minor": 5
}
